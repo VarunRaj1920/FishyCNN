{
  "nbformat": 4,
  "nbformat_minor": 0,
  "metadata": {
    "colab": {
      "provenance": [],
      "gpuType": "T4"
    },
    "kernelspec": {
      "name": "python3",
      "display_name": "Python 3"
    },
    "language_info": {
      "name": "python"
    },
    "accelerator": "GPU"
  },
  "cells": [
    {
      "cell_type": "markdown",
      "source": [
        "**IMPORTING REQUIRED LIBRARIES**"
      ],
      "metadata": {
        "id": "u5ZiB5m_vgFO"
      }
    },
    {
      "cell_type": "code",
      "execution_count": null,
      "metadata": {
        "id": "d0waVRffur9o"
      },
      "outputs": [],
      "source": [
        "# Libraries\n",
        "import numpy as np\n",
        "from tqdm import tqdm\n",
        "from time import time\n",
        "from PIL import Image\n",
        "\n",
        "import torch\n",
        "from torch.optim import Adam\n",
        "from torch.nn import CrossEntropyLoss, Conv2d, AvgPool2d, BatchNorm2d, Dropout2d, LeakyReLU, Linear, Module\n",
        "from torch.utils.data import DataLoader\n",
        "\n",
        "from torchvision.transforms import transforms\n",
        "from torchvision.datasets import ImageFolder\n",
        "\n",
        "# Device\n",
        "device = torch.device(\"cuda\" if torch.cuda.is_available() else \"cpu\")"
      ]
    },
    {
      "cell_type": "markdown",
      "source": [
        "**LOADING THE DATA AND CARRYING OUT THE TRANSFORMATIONS**"
      ],
      "metadata": {
        "id": "t-0GTrC5vsMd"
      }
    },
    {
      "cell_type": "code",
      "source": [
        "# Data Transformer\n",
        "tfm = transforms.Compose([\n",
        "    transforms.Resize((128, 128)),\n",
        "    transforms.RandomHorizontalFlip(),\n",
        "    transforms.RandomRotation(degrees=10),\n",
        "    transforms.ToTensor(),\n",
        "    transforms.Normalize([0.5, 0.5, 0.5], [0.5, 0.5, 0.5])\n",
        "])"
      ],
      "metadata": {
        "id": "WGyeGjJbvoO1"
      },
      "execution_count": null,
      "outputs": []
    },
    {
      "cell_type": "code",
      "source": [
        "# Create Dataset\n",
        "TRAIN_ROOT = \"/content/drive/MyDrive/New Dataset/train\"\n",
        "TEST_ROOT = \"/content/drive/MyDrive/New Dataset/test\"\n",
        "\n",
        "train_ds = ImageFolder(TRAIN_ROOT, transform = tfm)\n",
        "test_ds = ImageFolder(TEST_ROOT, transform = tfm)\n",
        "\n",
        "# Length of Train and Test Datasets\n",
        "len_train = len(train_ds)\n",
        "len_test = len(test_ds)"
      ],
      "metadata": {
        "id": "ewEFFt0lvyIg"
      },
      "execution_count": null,
      "outputs": []
    },
    {
      "cell_type": "code",
      "source": [
        "# Index Mapping\n",
        "train_ds.class_to_idx"
      ],
      "metadata": {
        "colab": {
          "base_uri": "https://localhost:8080/"
        },
        "id": "e8vDgSKYv6HL",
        "outputId": "34e45eb7-2a06-4362-e1d0-218295276b78"
      },
      "execution_count": null,
      "outputs": [
        {
          "output_type": "execute_result",
          "data": {
            "text/plain": [
              "{'fresh': 0, 'non-fresh': 1}"
            ]
          },
          "metadata": {},
          "execution_count": 4
        }
      ]
    },
    {
      "cell_type": "code",
      "source": [
        "# Data Loader\n",
        "train_loader = DataLoader(train_ds, batch_size = 30, shuffle=True)\n",
        "test_loader = DataLoader(test_ds, batch_size = 30, shuffle=True)"
      ],
      "metadata": {
        "id": "T9u7hVvXv8-A"
      },
      "execution_count": null,
      "outputs": []
    },
    {
      "cell_type": "markdown",
      "source": [
        "**BUILDING THE MODEL**"
      ],
      "metadata": {
        "id": "q7x0kAHRwB36"
      }
    },
    {
      "cell_type": "code",
      "source": [
        "# Build Model\n",
        "class FishyCNN(Module):\n",
        "    def __init__(self):\n",
        "        super(FishyCNN, self).__init__()\n",
        "        self.conv = Conv2d(in_channels=3, out_channels=8, kernel_size=(3,3), stride=1, padding=1)\n",
        "        self.pool = AvgPool2d(kernel_size=(3,3), stride=1)\n",
        "        self.relu = LeakyReLU()\n",
        "        self.bn = BatchNorm2d(num_features=8)\n",
        "        self.drop = Dropout2d(p=0.3)\n",
        "        self.fc = Linear(in_features=8*126*126, out_features=2)\n",
        "\n",
        "    def forward(self, X):\n",
        "        output = self.conv(X)\n",
        "        output = self.pool(output)\n",
        "        output = self.relu(output)\n",
        "        output = self.bn(output)\n",
        "        output = self.drop(output)\n",
        "#         print(output.shape)\n",
        "        output = output.view(-1, 8*126*126)\n",
        "        output = self.fc(output)\n",
        "        return output\n"
      ],
      "metadata": {
        "id": "xJnY_vMLv_5a"
      },
      "execution_count": null,
      "outputs": []
    },
    {
      "cell_type": "code",
      "source": [
        "# Define Model and Migrate to GPU\n",
        "model = FishyCNN().to(device)"
      ],
      "metadata": {
        "id": "7gLY5XfKwMPs"
      },
      "execution_count": null,
      "outputs": []
    },
    {
      "cell_type": "code",
      "source": [
        "# Optimiser\n",
        "optimiser = Adam(model.parameters(), lr=3e-4, weight_decay=0.0001)\n",
        "\n",
        "# Loss Function\n",
        "loss_fn = CrossEntropyLoss()"
      ],
      "metadata": {
        "id": "onWhGrkwwQrG"
      },
      "execution_count": null,
      "outputs": []
    },
    {
      "cell_type": "markdown",
      "source": [
        "**TRAINING AND EVALUATING THE MODEL**"
      ],
      "metadata": {
        "id": "kyCC9OV3wW-a"
      }
    },
    {
      "cell_type": "code",
      "source": [
        "for epoch in range(20):\n",
        "    start = time()\n",
        "    train_acc = 0\n",
        "    test_acc = 0\n",
        "\n",
        "# Train\n",
        "    model.train()\n",
        "    with tqdm(train_loader, unit=\"batch\") as tepoch:\n",
        "        for xtrain, ytrain in tepoch:\n",
        "            optimiser.zero_grad()\n",
        "            xtrain = xtrain.to(device)\n",
        "            train_prob = model(xtrain)\n",
        "            train_prob = train_prob.cpu()\n",
        "            train_loss = loss_fn(train_prob, ytrain)\n",
        "            train_loss.backward()\n",
        "            optimiser.step()\n",
        "            # END TRAIN\n",
        "            train_pred = torch.max(train_prob, 1).indices\n",
        "            train_acc += int(torch.sum(train_pred == ytrain))\n",
        "\n",
        "        train_epoch_accuracy = train_acc / len_train\n",
        "\n",
        "# Evaluate\n",
        "    model.eval()\n",
        "    with torch.no_grad():\n",
        "        for xtest, ytest in test_loader:\n",
        "            xtest = xtest.to(device)\n",
        "            test_prob = model(xtest)\n",
        "            test_prob = test_prob.cpu()\n",
        "            test_loss = loss_fn(test_prob, ytest)\n",
        "            test_pred = torch.max(test_prob, 1).indices\n",
        "            test_acc += int(torch.sum(test_pred == ytest))\n",
        "\n",
        "        test_epoch_accuracy = test_acc / len_test\n",
        "\n",
        "    end = time()\n",
        "\n",
        "    diff = end - start\n",
        "\n",
        "    print(f\"Epoch: {epoch+1}\"+f\"Time: {diff}\"+f\"Tr_loss: {train_loss}\"+f\" Test_loss: {test_loss}\"+f\"Tr_acc:{train_epoch_accuracy}\"+f\" Test_acc: {test_epoch_accuracy}\")"
      ],
      "metadata": {
        "colab": {
          "base_uri": "https://localhost:8080/"
        },
        "id": "o50kB7YqwU4N",
        "outputId": "ee63f016-55ea-4d8c-9c0d-10171a05461e"
      },
      "execution_count": null,
      "outputs": [
        {
          "output_type": "stream",
          "name": "stderr",
          "text": [
            "100%|██████████| 3/3 [00:00<00:00,  3.12batch/s]\n"
          ]
        },
        {
          "output_type": "stream",
          "name": "stdout",
          "text": [
            "Epoch: 1Time: 1.0114374160766602Tr_loss: 0.0 Test_loss: 5.662435000886035e-07Tr_acc:1.0 Test_acc: 1.0\n"
          ]
        },
        {
          "output_type": "stream",
          "name": "stderr",
          "text": [
            "100%|██████████| 3/3 [00:00<00:00,  3.09batch/s]\n"
          ]
        },
        {
          "output_type": "stream",
          "name": "stdout",
          "text": [
            "Epoch: 2Time: 1.0227391719818115Tr_loss: 0.0 Test_loss: 0.0001401210465701297Tr_acc:1.0 Test_acc: 1.0\n"
          ]
        },
        {
          "output_type": "stream",
          "name": "stderr",
          "text": [
            "100%|██████████| 3/3 [00:00<00:00,  3.02batch/s]\n"
          ]
        },
        {
          "output_type": "stream",
          "name": "stdout",
          "text": [
            "Epoch: 3Time: 1.04606032371521Tr_loss: 1.4901158529312397e-08 Test_loss: 6.914044206496328e-06Tr_acc:0.9880952380952381 Test_acc: 1.0\n"
          ]
        },
        {
          "output_type": "stream",
          "name": "stderr",
          "text": [
            "100%|██████████| 3/3 [00:00<00:00,  3.10batch/s]\n"
          ]
        },
        {
          "output_type": "stream",
          "name": "stdout",
          "text": [
            "Epoch: 4Time: 1.0217151641845703Tr_loss: 9.934105982267738e-09 Test_loss: 2.4323253631591797Tr_acc:1.0 Test_acc: 0.75\n"
          ]
        },
        {
          "output_type": "stream",
          "name": "stderr",
          "text": [
            "100%|██████████| 3/3 [00:00<00:00,  3.10batch/s]\n"
          ]
        },
        {
          "output_type": "stream",
          "name": "stdout",
          "text": [
            "Epoch: 5Time: 1.0218820571899414Tr_loss: 0.0 Test_loss: 2.56103253364563Tr_acc:1.0 Test_acc: 0.75\n"
          ]
        },
        {
          "output_type": "stream",
          "name": "stderr",
          "text": [
            "100%|██████████| 3/3 [00:00<00:00,  3.10batch/s]\n"
          ]
        },
        {
          "output_type": "stream",
          "name": "stdout",
          "text": [
            "Epoch: 6Time: 1.021440029144287Tr_loss: 0.0 Test_loss: 13.218670845031738Tr_acc:1.0 Test_acc: 0.5\n"
          ]
        },
        {
          "output_type": "stream",
          "name": "stderr",
          "text": [
            "100%|██████████| 3/3 [00:01<00:00,  2.97batch/s]\n"
          ]
        },
        {
          "output_type": "stream",
          "name": "stdout",
          "text": [
            "Epoch: 7Time: 1.059269666671753Tr_loss: 0.0 Test_loss: 6.734160423278809Tr_acc:1.0 Test_acc: 0.5\n"
          ]
        },
        {
          "output_type": "stream",
          "name": "stderr",
          "text": [
            "100%|██████████| 3/3 [00:00<00:00,  3.10batch/s]\n"
          ]
        },
        {
          "output_type": "stream",
          "name": "stdout",
          "text": [
            "Epoch: 8Time: 1.0202674865722656Tr_loss: 0.45606860518455505 Test_loss: 11.847615242004395Tr_acc:0.9761904761904762 Test_acc: 0.5\n"
          ]
        },
        {
          "output_type": "stream",
          "name": "stderr",
          "text": [
            "100%|██████████| 3/3 [00:01<00:00,  2.40batch/s]\n"
          ]
        },
        {
          "output_type": "stream",
          "name": "stdout",
          "text": [
            "Epoch: 9Time: 1.3245558738708496Tr_loss: 9.02441479411209e-06 Test_loss: 4.58603572845459Tr_acc:1.0 Test_acc: 0.75\n"
          ]
        },
        {
          "output_type": "stream",
          "name": "stderr",
          "text": [
            "100%|██████████| 3/3 [00:01<00:00,  2.07batch/s]\n"
          ]
        },
        {
          "output_type": "stream",
          "name": "stdout",
          "text": [
            "Epoch: 10Time: 1.5235044956207275Tr_loss: 1.7881355063309456e-07 Test_loss: 5.011195182800293Tr_acc:0.9880952380952381 Test_acc: 0.75\n"
          ]
        },
        {
          "output_type": "stream",
          "name": "stderr",
          "text": [
            "100%|██████████| 3/3 [00:01<00:00,  2.33batch/s]\n"
          ]
        },
        {
          "output_type": "stream",
          "name": "stdout",
          "text": [
            "Epoch: 11Time: 1.3416633605957031Tr_loss: 0.0 Test_loss: 0.0Tr_acc:1.0 Test_acc: 1.0\n"
          ]
        },
        {
          "output_type": "stream",
          "name": "stderr",
          "text": [
            "100%|██████████| 3/3 [00:00<00:00,  3.14batch/s]\n"
          ]
        },
        {
          "output_type": "stream",
          "name": "stdout",
          "text": [
            "Epoch: 12Time: 1.0068063735961914Tr_loss: 0.0002529527118895203 Test_loss: 1.1920926112907182e-07Tr_acc:1.0 Test_acc: 1.0\n"
          ]
        },
        {
          "output_type": "stream",
          "name": "stderr",
          "text": [
            "100%|██████████| 3/3 [00:00<00:00,  3.14batch/s]\n"
          ]
        },
        {
          "output_type": "stream",
          "name": "stdout",
          "text": [
            "Epoch: 13Time: 1.0092403888702393Tr_loss: 0.0 Test_loss: 0.01265371311455965Tr_acc:1.0 Test_acc: 1.0\n"
          ]
        },
        {
          "output_type": "stream",
          "name": "stderr",
          "text": [
            "100%|██████████| 3/3 [00:00<00:00,  3.16batch/s]\n"
          ]
        },
        {
          "output_type": "stream",
          "name": "stdout",
          "text": [
            "Epoch: 14Time: 1.0064401626586914Tr_loss: 0.02843889780342579 Test_loss: 0.00023243942996487021Tr_acc:1.0 Test_acc: 1.0\n"
          ]
        },
        {
          "output_type": "stream",
          "name": "stderr",
          "text": [
            "100%|██████████| 3/3 [00:01<00:00,  3.00batch/s]\n"
          ]
        },
        {
          "output_type": "stream",
          "name": "stdout",
          "text": [
            "Epoch: 15Time: 1.0531914234161377Tr_loss: 4.420654420300707e-07 Test_loss: 1.442390748707112e-05Tr_acc:1.0 Test_acc: 1.0\n"
          ]
        },
        {
          "output_type": "stream",
          "name": "stderr",
          "text": [
            "100%|██████████| 3/3 [00:00<00:00,  3.10batch/s]\n"
          ]
        },
        {
          "output_type": "stream",
          "name": "stdout",
          "text": [
            "Epoch: 16Time: 1.0223536491394043Tr_loss: 5.9604616353681195e-08 Test_loss: 0.0Tr_acc:0.9880952380952381 Test_acc: 1.0\n"
          ]
        },
        {
          "output_type": "stream",
          "name": "stderr",
          "text": [
            "100%|██████████| 3/3 [00:01<00:00,  3.00batch/s]\n"
          ]
        },
        {
          "output_type": "stream",
          "name": "stdout",
          "text": [
            "Epoch: 17Time: 1.0577383041381836Tr_loss: 0.0 Test_loss: 0.0Tr_acc:1.0 Test_acc: 1.0\n"
          ]
        },
        {
          "output_type": "stream",
          "name": "stderr",
          "text": [
            "100%|██████████| 3/3 [00:00<00:00,  3.01batch/s]\n"
          ]
        },
        {
          "output_type": "stream",
          "name": "stdout",
          "text": [
            "Epoch: 18Time: 1.0534095764160156Tr_loss: 0.0038760926108807325 Test_loss: 0.0Tr_acc:1.0 Test_acc: 1.0\n"
          ]
        },
        {
          "output_type": "stream",
          "name": "stderr",
          "text": [
            "100%|██████████| 3/3 [00:00<00:00,  3.01batch/s]\n"
          ]
        },
        {
          "output_type": "stream",
          "name": "stdout",
          "text": [
            "Epoch: 19Time: 1.0503389835357666Tr_loss: 0.0 Test_loss: 2.9802320611338473e-08Tr_acc:1.0 Test_acc: 1.0\n"
          ]
        },
        {
          "output_type": "stream",
          "name": "stderr",
          "text": [
            "100%|██████████| 3/3 [00:00<00:00,  3.02batch/s]"
          ]
        },
        {
          "output_type": "stream",
          "name": "stdout",
          "text": [
            "Epoch: 20Time: 1.0626614093780518Tr_loss: 1.9868210188178637e-08 Test_loss: 0.0Tr_acc:1.0 Test_acc: 1.0\n"
          ]
        },
        {
          "output_type": "stream",
          "name": "stderr",
          "text": [
            "\n"
          ]
        }
      ]
    },
    {
      "cell_type": "markdown",
      "source": [
        "**MODEL PERFORMANCE ON SAMPLES**"
      ],
      "metadata": {
        "id": "dwWza3-pxep0"
      }
    },
    {
      "cell_type": "code",
      "source": [
        "# Image Samples\n",
        "sample_1 = '/content/drive/MyDrive/New Dataset/train/fresh/20200517_085346_jpg.rf.81c1a45a262c5c6030db9a7d2e0f2d7f.jpg'\n",
        "sample_2 = '/content/drive/MyDrive/New Dataset/train/non-fresh/20200517_145932_jpg.rf.66c032dd0810adfd947c1576f052173d.jpg'\n",
        "sample_3 = '/content/drive/MyDrive/New Dataset/valid/fresh/20200517_084741_jpg.rf.71c6a132f5d936f60c2655ac9c1d6e48.jpg'\n",
        "sample_4 = '/content/drive/MyDrive/New Dataset/valid/non-fresh/20200517_145715_jpg.rf.3ff343e8477cf04140b7f40e0dfb803a.jpg'\n",
        "\n",
        "sample_list = [sample_1,sample_2,sample_3,sample_4]"
      ],
      "metadata": {
        "id": "i12jCKIyw_4S"
      },
      "execution_count": null,
      "outputs": []
    },
    {
      "cell_type": "code",
      "source": [
        "# Model Performance\n",
        "for img_path in sample_list:\n",
        "    img = Image.open(img_path)\n",
        "    display(img.resize((100, 100)))\n",
        "    img_tensor = tfm(img)\n",
        "    img_tensor = img_tensor[np.newaxis, :]\n",
        "    img_tensor = img_tensor.to(device)\n",
        "    prob = model(img_tensor)\n",
        "    pred = torch.max(prob, 1).indices\n",
        "    pred = pred.item()\n",
        "    if pred == 0:\n",
        "        print(f\"Model Pred: {pred}\\nInterpretation: This is fresh\")\n",
        "    else:\n",
        "        print(f\"Model Pred: {pred}\\nInterpretation: It's not fresh\")\n",
        "\n",
        "    print(\"===============================================================\")"
      ],
      "metadata": {
        "colab": {
          "base_uri": "https://localhost:8080/",
          "height": 631
        },
        "id": "e37hZey2xw7j",
        "outputId": "049cbf9d-01fb-467e-aa5e-f604faa9891b"
      },
      "execution_count": null,
      "outputs": [
        {
          "output_type": "display_data",
          "data": {
            "text/plain": [
              "<PIL.Image.Image image mode=RGB size=100x100 at 0x7F733D3614B0>"
            ],
            "image/png": "[encoded data removed]"
          },
          "metadata": {}
        },
        {
          "output_type": "stream",
          "name": "stdout",
          "text": [
            "Model Pred: 0\n",
            "Interpretation: This is fresh\n",
            "===============================================================\n"
          ]
        },
        {
          "output_type": "display_data",
          "data": {
            "text/plain": [
              "<PIL.Image.Image image mode=RGB size=100x100 at 0x7F7345948F70>"
            ],
            "image/png": "[encoded data removed]"
          },
          "metadata": {}
        },
        {
          "output_type": "stream",
          "name": "stdout",
          "text": [
            "Model Pred: 1\n",
            "Interpretation: It's not fresh\n",
            "===============================================================\n"
          ]
        },
        {
          "output_type": "display_data",
          "data": {
            "text/plain": [
              "<PIL.Image.Image image mode=RGB size=100x100 at 0x7F7345948F70>"
            ],
            "image/png": "[encoded data removed]"
          },
          "metadata": {}
        },
        {
          "output_type": "stream",
          "name": "stdout",
          "text": [
            "Model Pred: 0\n",
            "Interpretation: This is fresh\n",
            "===============================================================\n"
          ]
        },
        {
          "output_type": "display_data",
          "data": {
            "text/plain": [
              "<PIL.Image.Image image mode=RGB size=100x100 at 0x7F7345948F70>"
            ],
            "image/png": "[encoded data removed]"
          },
          "metadata": {}
        },
        {
          "output_type": "stream",
          "name": "stdout",
          "text": [
            "Model Pred: 1\n",
            "Interpretation: It's not fresh\n",
            "===============================================================\n"
          ]
        }
      ]
    },
    {
      "cell_type": "code",
      "source": [
        "import matplotlib.pyplot as plt\n",
        "from matplotlib.pyplot import imshow\n",
        "import os\n",
        "import seaborn as sns\n",
        "sns.set_style('darkgrid')\n",
        "from sklearn.metrics import confusion_matrix, classification_report"
      ],
      "metadata": {
        "id": "gm8rKGSDx0SD"
      },
      "execution_count": null,
      "outputs": []
    },
    {
      "cell_type": "code",
      "source": [],
      "metadata": {
        "id": "2D5WXPOp6oa8"
      },
      "execution_count": null,
      "outputs": []
    }
  ]
}